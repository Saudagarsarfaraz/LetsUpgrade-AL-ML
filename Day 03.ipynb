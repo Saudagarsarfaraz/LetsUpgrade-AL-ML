{
 "cells": [
  {
   "cell_type": "raw",
   "metadata": {},
   "source": [
    "Question 1:\n",
    "Write a program to subtract two complex numbers in Python"
   ]
  },
  {
   "cell_type": "code",
   "execution_count": 4,
   "metadata": {},
   "outputs": [
    {
     "name": "stdout",
     "output_type": "stream",
     "text": [
      "Subtraction = (1+2j)\n"
     ]
    }
   ],
   "source": [
    "A=4+5j\n",
    "B=3+3j\n",
    "C=A-B\n",
    "print(\"Subtraction =\",C)"
   ]
  },
  {
   "cell_type": "markdown",
   "metadata": {},
   "source": [
    "Question 2 :\n",
    "Write a program to find the fourth root of a number."
   ]
  },
  {
   "cell_type": "code",
   "execution_count": 6,
   "metadata": {},
   "outputs": [
    {
     "name": "stdout",
     "output_type": "stream",
     "text": [
      "Fourth root= 8.0\n"
     ]
    }
   ],
   "source": [
    "a=256\n",
    "num=a**0.25\n",
    "print(\"Fourth root=\",num)"
   ]
  },
  {
   "cell_type": "markdown",
   "metadata": {},
   "source": [
    "Question 3:\n",
    "Write a program to swap two numbers in Python with the help of a temporary variable.\n"
   ]
  },
  {
   "cell_type": "code",
   "execution_count": 10,
   "metadata": {},
   "outputs": [
    {
     "name": "stdout",
     "output_type": "stream",
     "text": [
      "Before Swaping x = 8 and y = 4\n",
      "After Swaping x = 4 and y = 8\n"
     ]
    }
   ],
   "source": [
    "x=8\n",
    "y=4\n",
    "print(f\"Before Swaping x = {x} and y = {y}\")\n",
    "temp=x\n",
    "x=y\n",
    "y=temp\n",
    "print(f\"After Swaping x = {x} and y = {y}\")\n"
   ]
  },
  {
   "cell_type": "markdown",
   "metadata": {},
   "source": [
    "Question 4:\n",
    "Write a program to swap two numbers in Python without using a temporary variable.\n"
   ]
  },
  {
   "cell_type": "code",
   "execution_count": 12,
   "metadata": {},
   "outputs": [
    {
     "name": "stdout",
     "output_type": "stream",
     "text": [
      "Before Swaping x = 8 and y = 4\n",
      "After Swaping x = 4 and y = 8\n"
     ]
    }
   ],
   "source": [
    "x=8\n",
    "y=4\n",
    "print(f\"Before Swaping x = {x} and y = {y}\")\n",
    "x,y=y,x\n",
    "print(f\"After Swaping x = {x} and y = {y}\")"
   ]
  },
  {
   "cell_type": "markdown",
   "metadata": {},
   "source": [
    "Question 5:\n",
    "Write a program to convert fahrenheit to kelvin and celsius both.\n"
   ]
  },
  {
   "cell_type": "code",
   "execution_count": 13,
   "metadata": {},
   "outputs": [
    {
     "name": "stdout",
     "output_type": "stream",
     "text": [
      "Enter Degree in Fahrenheit: 256\n",
      "Degree in Kelvin =  397.59444444444443\n",
      "Degree in celsius =  124.44444444444444\n"
     ]
    }
   ],
   "source": [
    "fahrenheit = int(input(\"Enter Degree in Fahrenheit: \"))\n",
    "print(\"Degree in Kelvin = \", (fahrenheit - 32) * 5/9 + 273.15 )\n",
    "print(\"Degree in celsius = \", (fahrenheit - 32) * 5/9)"
   ]
  },
  {
   "cell_type": "markdown",
   "metadata": {},
   "source": [
    "Question 6:\n",
    "Write a program to demonstrate all the available data types in Python. \n"
   ]
  },
  {
   "cell_type": "code",
   "execution_count": 14,
   "metadata": {},
   "outputs": [
    {
     "name": "stdout",
     "output_type": "stream",
     "text": [
      "Variable type of a =  <class 'int'>\n",
      "Variable type of b =  <class 'float'>\n",
      "Variable type of c =  <class 'str'>\n",
      "Variable type of d =  <class 'complex'>\n"
     ]
    }
   ],
   "source": [
    "a = 58\n",
    "b = 99.5858\n",
    "c = \"LetsUpgrade\"\n",
    "d = 61j\n",
    "print(\"Variable type of a = \", type(a))\n",
    "print(\"Variable type of b = \", type(b))\n",
    "print(\"Variable type of c = \", type(c))\n",
    "print(\"Variable type of d = \", type(d))"
   ]
  },
  {
   "cell_type": "markdown",
   "metadata": {},
   "source": [
    "Question 7:\n",
    "Create a Markdown cell in jupyter and list the steps discussed in the session by Dr. Darshan\n",
    "Ingle sir to create Github profile and upload Githubs Assignment link."
   ]
  },
  {
   "cell_type": "markdown",
   "metadata": {},
   "source": [
    "##Steps to create github profile and upload github Assignment link\n",
    "\n",
    "Create a Github public repo and name it LetsUpgrade AI/ML\n",
    "Upload the files/solution in the repo in day wise manner.\n",
    "Copy the URL of the Folder of that day and paste in the Assignment Submission Form (Google Form)\n",
    "Make sure you are filling correct details in the Assignment Submission Form.\n",
    "All the drop-downs will be available till the week end only. i.e Previous weeks drop-down will disappear on each Sunday 11:59 PM\n",
    "You have to submit all the assignment given during the weekdays by respective SUNDAY 11:59 PM IST."
   ]
  },
  {
   "cell_type": "code",
   "execution_count": null,
   "metadata": {},
   "outputs": [],
   "source": []
  }
 ],
 "metadata": {
  "kernelspec": {
   "display_name": "Python 3",
   "language": "python",
   "name": "python3"
  },
  "language_info": {
   "codemirror_mode": {
    "name": "ipython",
    "version": 3
   },
   "file_extension": ".py",
   "mimetype": "text/x-python",
   "name": "python",
   "nbconvert_exporter": "python",
   "pygments_lexer": "ipython3",
   "version": "3.7.6"
  }
 },
 "nbformat": 4,
 "nbformat_minor": 4
}
